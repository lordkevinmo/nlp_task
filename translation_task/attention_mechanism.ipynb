{
 "cells": [
  {
   "cell_type": "code",
   "execution_count": 1,
   "metadata": {},
   "outputs": [],
   "source": [
    "import torch\n",
    "import torch.nn as nn\n",
    "import numpy as np"
   ]
  },
  {
   "cell_type": "code",
   "execution_count": 2,
   "metadata": {},
   "outputs": [],
   "source": [
    "class EncoderLSTM(nn.Module):\n",
    "    def __init__(self, input_size, hidden_size, n_layers=1, drop_prob=0):\n",
    "        super(EncoderLSTM, self).__init__()\n",
    "        self.hidden_size = hidden_size\n",
    "        self.n_layers = n_layers\n",
    "        \n",
    "        self.embedding = nn.Embedding(input_size, hidden_size)\n",
    "        self.lstm = nn.LSTM(hidden_size, hidden_size, n_layers, dropout=drop_prob, batch_first=True)\n",
    "    \n",
    "    def forward(self, inputs, hidden):\n",
    "        # Embed input words\n",
    "        embedded = self.embedding(inputs)\n",
    "        # Pass the embedded word vectors into LSTM and return all outputs\n",
    "        output, hidden = self.lstm(embedded, hidden)\n",
    "        return output, hidden\n",
    "    \n",
    "    def init_hidden(self, batch_size=1):\n",
    "        return (torch.zeros(self.n_layers, batch_size, self.hidden_size, device=device),\n",
    "                torch.zeros(self.n_layers, batch_size, self.hidden_size, device=device))"
   ]
  },
  {
   "cell_type": "code",
   "execution_count": 3,
   "metadata": {},
   "outputs": [],
   "source": [
    "\"\"\"\n",
    "Calculating Alignment Scores\n",
    "\"\"\"\n",
    "import torch.nn.functional as F\n",
    "\n",
    "class BahDanauDecoder(nn.Module):\n",
    "    def __init__(self, hidden_size, output_size, n_layers=1, drop_prob=0.1):\n",
    "        super(BahDanauDecoder, self).__init__()\n",
    "        self.hidden_size = hidden_size\n",
    "        self.output_size = output_size\n",
    "        self.n_layers = n_layers\n",
    "        self.drop_prob = drop_prob\n",
    "        \n",
    "        self.embedding = nn.Embedding(self.output_size, self.hidden_size)\n",
    "        \n",
    "        self.fc_hidden = nn.Linear(self.hidden_size, self.hidden_size, bias=False)\n",
    "        self.fc_encoder = nn.Linear(self.hidden_size, self.hidden_size, bias=False)\n",
    "        self.weight = nn.Parameter(torch.FloatTensor(1, hidden_size))\n",
    "        self.attn_combine = nn.Linear(self.hidden_size * 2, self.hidden_size)\n",
    "        self.dropout = nn.Dropout(self.drop_prob)\n",
    "        self.lstm = nn.LSTM(self.hidden_size * 2, self.hidden_size, batch_first=True)\n",
    "        self.classifier = nn.Linear(self.hidden_size, self.output_size)\n",
    "    \n",
    "    def forward(self, inputs, hidden, encoder_outputs):\n",
    "        encoder_outputs = encoder_outputs.squeeze()\n",
    "        # Embed input words\n",
    "        embedded = self.embedding(inputs).view(1, -1)\n",
    "        embedded = self.dropout(embedded)\n",
    "        \n",
    "        # Calculating Alignment Scores\n",
    "        x = torch.tanh(self.fc_hidden(hidden[0])+self.fc_encoder(encoder_outputs))\n",
    "        alignment_scores = x.bmm(self.weight.unsquezze(2))\n",
    "        \n",
    "        # Softmaxing alignment scores to get Attention weights\n",
    "        attn_weights = F.softmax(alignment_scores.view(1, -1), dim=1)\n",
    "        \n",
    "        # Multiplying the Attention weights with encoder outputs to get the context vector\n",
    "        context_vector = torch.bmm(attn_weights.unsqueeze(0),\n",
    "                                  encoder_outputs.unsqueeze(0))\n",
    "        \n",
    "        # Concatening context vector with embedded input word\n",
    "        output = torch.cat((embedded, context_vector[0]), 1).unsqueeze(0)\n",
    "        # Passing the concatened vector as input to the LSTM cell\n",
    "        output, hidden = self.lstm(output, hidden)\n",
    "        # Passing the lstm output through a Linear layer acting as a classifier\n",
    "        output = F.log_softmax(self.classifier(output[0]), dim=1)\n",
    "        return output, hidden, attn_weights"
   ]
  },
  {
   "cell_type": "code",
   "execution_count": 5,
   "metadata": {},
   "outputs": [],
   "source": [
    "class LuongDecoder(nn.Module):\n",
    "    def __init__(self, hidden_size, output_size, attention, n_layers=1, drop_prob=0.1):\n",
    "        super(LuongDecoder, self).__init__()\n",
    "        self.hidden_size = hidden_size\n",
    "        self.output_size = output_size\n",
    "        self.n_layers = n_layers\n",
    "        self.drop_prob = drop_prob\n",
    "\n",
    "        # The Attention Mechanism is defined in a separate class\n",
    "        self.attention = attention\n",
    "\n",
    "        self.embedding = nn.Embedding(self.output_size, self.hidden_size)\n",
    "        self.dropout = nn.Dropout(self.drop_prob)\n",
    "        self.lstm = nn.LSTM(self.hidden_size, self.hidden_size)\n",
    "        self.classifier = nn.Linear(self.hidden_size*2, self.output_size)\n",
    "    \n",
    "    def forward(self, inputs, hidden, encoder_outputs):\n",
    "        # Embed input words\n",
    "        embedded = self.embedding(inputs).view(1,1,-1)\n",
    "        embedded = self.dropout(embedded)\n",
    "\n",
    "        # Passing previous output word (embedded) and hidden state into LSTM cell\n",
    "        lstm_out, hidden = self.lstm(embedded, hidden)\n",
    "\n",
    "        # Calculating Alignment Scores - see Attention class for the forward pass function\n",
    "        alignment_scores = self.attention(lstm_out,encoder_outputs)\n",
    "        # Softmaxing alignment scores to obtain Attention weights\n",
    "        attn_weights = F.softmax(alignment_scores.view(1,-1), dim=1)\n",
    "\n",
    "        # Multiplying Attention weights with encoder outputs to get context vector\n",
    "        context_vector = torch.bmm(attn_weights.unsqueeze(0),encoder_outputs)\n",
    "\n",
    "        # Concatenating output from LSTM with context vector\n",
    "        output = torch.cat((lstm_out, context_vector),-1)\n",
    "        # Pass concatenated vector through Linear layer acting as a Classifier\n",
    "        output = F.log_softmax(self.classifier(output[0]), dim=1)\n",
    "        return output, hidden, attn_weights\n",
    "\n",
    "\n",
    "class Attention(nn.Module):\n",
    "    def __init__(self, hidden_size, method=\"dot\"):\n",
    "        super(Attention, self).__init__()\n",
    "        self.method = method\n",
    "        self.hidden_size = hidden_size\n",
    "\n",
    "        # Defining the layers/weights required depending on alignment scoring method\n",
    "        if method == \"general\":\n",
    "            self.fc = nn.Linear(hidden_size, hidden_size, bias=False)\n",
    "        elif method == \"concat\":\n",
    "            self.fc = nn.Linear(hidden_size, hidden_size, bias=False)\n",
    "            self.weight = nn.Parameter(torch.FloatTensor(1, hidden_size))\n",
    "  \n",
    "    def forward(self, decoder_hidden, encoder_outputs):\n",
    "        if self.method == \"dot\":\n",
    "            # For the dot scoring method, no weights or linear layers are involved\n",
    "            return encoder_outputs.bmm(decoder_hidden.view(1,-1,1)).squeeze(-1)\n",
    "        elif self.method == \"general\":\n",
    "            # For general scoring, decoder hidden state is passed through linear layers to introduce a weight matrix\n",
    "            out = self.fc(decoder_hidden)\n",
    "            return encoder_outputs.bmm(out.view(1,-1,1)).squeeze(-1)\n",
    "        elif self.method == \"concat\":\n",
    "            # For concat scoring, decoder hidden state and encoder outputs are concatenated first\n",
    "            out = torch.tanh(self.fc(decoder_hidden+encoder_outputs))\n",
    "            return out.bmm(self.weight.unsqueeze(-1)).squeeze(-1)"
   ]
  },
  {
   "cell_type": "code",
   "execution_count": 6,
   "metadata": {},
   "outputs": [],
   "source": [
    "import torch.optim as optim\n",
    "import pandas\n",
    "import spacy\n",
    "from spacy.lang.en import English\n",
    "from spacy.lang.fr import French\n",
    "import matplotlib.pyplot as plt\n",
    "import matplotlib.ticker as ticker\n",
    "from tqdm import tqdm_notebook\n",
    "import random\n",
    "from collections import Counter\n",
    "\n",
    "if torch.cuda.is_available:\n",
    "    device = torch.device(\"cuda\")\n",
    "else:\n",
    "    device = torch.device(\"cpu\")"
   ]
  },
  {
   "cell_type": "code",
   "execution_count": 9,
   "metadata": {},
   "outputs": [
    {
     "name": "stderr",
     "output_type": "stream",
     "text": [
      "<ipython-input-9-3a3873902b04>:21: TqdmDeprecationWarning: This function will be removed in tqdm==5.0.0\n",
      "Please use `tqdm.notebook.tqdm` instead of `tqdm.tqdm_notebook`\n",
      "  for i in tqdm_notebook(range(training_examples)):\n"
     ]
    },
    {
     "data": {
      "application/vnd.jupyter.widget-view+json": {
       "model_id": "b39c94cc2d5246cbbd5a19363af8a5cc",
       "version_major": 2,
       "version_minor": 0
      },
      "text/plain": [
       "HBox(children=(FloatProgress(value=0.0, max=10000.0), HTML(value='')))"
      ]
     },
     "metadata": {},
     "output_type": "display_data"
    },
    {
     "name": "stdout",
     "output_type": "stream",
     "text": [
      "\n"
     ]
    }
   ],
   "source": [
    "with open(\"fra.txt\", \"r+\") as file:\n",
    "    fra = [x[:-1] for x in file.readlines()]\n",
    "en = []\n",
    "fr = []\n",
    "for line in fra:\n",
    "    en.append(line.split(\"\\t\")[0])\n",
    "    fr.append(line.split(\"\\t\")[1])\n",
    "\n",
    "# Setting the number of training sentences we'll use\n",
    "training_examples = 10000\n",
    "# We'll be using the spaCy's English and German tokenizers\n",
    "spacy_en = English()\n",
    "spacy_fr = French()\n",
    "\n",
    "en_words = Counter()\n",
    "fr_words = Counter()\n",
    "en_inputs = []\n",
    "fr_inputs = []\n",
    "\n",
    "# Tokenizing the English and German sentences and creating our word banks for both languages\n",
    "for i in tqdm_notebook(range(training_examples)):\n",
    "    en_tokens = spacy_en(en[i])\n",
    "    fr_tokens = spacy_fr(fr[i])\n",
    "    if len(en_tokens)==0 or len(fr_tokens)==0:\n",
    "        continue\n",
    "    for token in en_tokens:\n",
    "        en_words.update([token.text.lower()])\n",
    "    en_inputs.append([token.text.lower() for token in en_tokens] + ['_EOS'])\n",
    "    for token in fr_tokens:\n",
    "        fr_words.update([token.text.lower()])\n",
    "    fr_inputs.append([token.text.lower() for token in fr_tokens] + ['_EOS'])\n",
    "\n",
    "# Assigning an index to each word token, including the Start Of String(SOS), End Of String(EOS) and Unknown(UNK) tokens\n",
    "en_words = ['_SOS','_EOS','_UNK'] + sorted(en_words,key=en_words.get,reverse=True)\n",
    "en_w2i = {o:i for i,o in enumerate(en_words)}\n",
    "en_i2w = {i:o for i,o in enumerate(en_words)}\n",
    "fr_words = ['_SOS','_EOS','_UNK'] + sorted(fr_words,key=fr_words.get,reverse=True)\n",
    "fr_w2i = {o:i for i,o in enumerate(fr_words)}\n",
    "fr_i2w = {i:o for i,o in enumerate(fr_words)}\n",
    "\n",
    "# Converting our English and German sentences to their token indexes\n",
    "for i in range(len(en_inputs)):\n",
    "    en_sentence = en_inputs[i]\n",
    "    fr_sentence = fr_inputs[i]\n",
    "    en_inputs[i] = [en_w2i[word] for word in en_sentence]\n",
    "    fr_inputs[i] = [fr_w2i[word] for word in fr_sentence]"
   ]
  },
  {
   "cell_type": "code",
   "execution_count": 11,
   "metadata": {},
   "outputs": [],
   "source": [
    "hidden_size = 256\n",
    "encoder = EncoderLSTM(len(en_words), hidden_size).to(device)\n",
    "attn = Attention(hidden_size,\"concat\")\n",
    "decoder = LuongDecoder(hidden_size,len(fr_words),attn).to(device)\n",
    "\n",
    "lr = 0.001\n",
    "encoder_optimizer = optim.Adam(encoder.parameters(), lr=lr)\n",
    "decoder_optimizer = optim.Adam(decoder.parameters(), lr=lr)"
   ]
  },
  {
   "cell_type": "code",
   "execution_count": 12,
   "metadata": {},
   "outputs": [
    {
     "name": "stderr",
     "output_type": "stream",
     "text": [
      "<ipython-input-12-7f71a29e5c40>:5: TqdmDeprecationWarning: This function will be removed in tqdm==5.0.0\n",
      "Please use `tqdm.notebook.tqdm` instead of `tqdm.tqdm_notebook`\n",
      "  tk0 = tqdm_notebook(range(1,EPOCHS+1),total=EPOCHS)\n"
     ]
    },
    {
     "data": {
      "application/vnd.jupyter.widget-view+json": {
       "model_id": "659922eb986a4ba890ad4d853d7015d4",
       "version_major": 2,
       "version_minor": 0
      },
      "text/plain": [
       "HBox(children=(FloatProgress(value=0.0, max=10.0), HTML(value='')))"
      ]
     },
     "metadata": {},
     "output_type": "display_data"
    },
    {
     "name": "stderr",
     "output_type": "stream",
     "text": [
      "<ipython-input-12-7f71a29e5c40>:8: TqdmDeprecationWarning: This function will be removed in tqdm==5.0.0\n",
      "Please use `tqdm.notebook.tqdm` instead of `tqdm.tqdm_notebook`\n",
      "  tk1 = tqdm_notebook(enumerate(en_inputs),total=len(en_inputs),leave=False)\n"
     ]
    },
    {
     "data": {
      "application/vnd.jupyter.widget-view+json": {
       "model_id": "",
       "version_major": 2,
       "version_minor": 0
      },
      "text/plain": [
       "HBox(children=(FloatProgress(value=0.0, max=10000.0), HTML(value='')))"
      ]
     },
     "metadata": {},
     "output_type": "display_data"
    },
    {
     "data": {
      "application/vnd.jupyter.widget-view+json": {
       "model_id": "",
       "version_major": 2,
       "version_minor": 0
      },
      "text/plain": [
       "HBox(children=(FloatProgress(value=0.0, max=10000.0), HTML(value='')))"
      ]
     },
     "metadata": {},
     "output_type": "display_data"
    },
    {
     "data": {
      "application/vnd.jupyter.widget-view+json": {
       "model_id": "",
       "version_major": 2,
       "version_minor": 0
      },
      "text/plain": [
       "HBox(children=(FloatProgress(value=0.0, max=10000.0), HTML(value='')))"
      ]
     },
     "metadata": {},
     "output_type": "display_data"
    },
    {
     "data": {
      "application/vnd.jupyter.widget-view+json": {
       "model_id": "",
       "version_major": 2,
       "version_minor": 0
      },
      "text/plain": [
       "HBox(children=(FloatProgress(value=0.0, max=10000.0), HTML(value='')))"
      ]
     },
     "metadata": {},
     "output_type": "display_data"
    },
    {
     "data": {
      "application/vnd.jupyter.widget-view+json": {
       "model_id": "",
       "version_major": 2,
       "version_minor": 0
      },
      "text/plain": [
       "HBox(children=(FloatProgress(value=0.0, max=10000.0), HTML(value='')))"
      ]
     },
     "metadata": {},
     "output_type": "display_data"
    },
    {
     "data": {
      "application/vnd.jupyter.widget-view+json": {
       "model_id": "",
       "version_major": 2,
       "version_minor": 0
      },
      "text/plain": [
       "HBox(children=(FloatProgress(value=0.0, max=10000.0), HTML(value='')))"
      ]
     },
     "metadata": {},
     "output_type": "display_data"
    },
    {
     "data": {
      "application/vnd.jupyter.widget-view+json": {
       "model_id": "",
       "version_major": 2,
       "version_minor": 0
      },
      "text/plain": [
       "HBox(children=(FloatProgress(value=0.0, max=10000.0), HTML(value='')))"
      ]
     },
     "metadata": {},
     "output_type": "display_data"
    },
    {
     "data": {
      "application/vnd.jupyter.widget-view+json": {
       "model_id": "",
       "version_major": 2,
       "version_minor": 0
      },
      "text/plain": [
       "HBox(children=(FloatProgress(value=0.0, max=10000.0), HTML(value='')))"
      ]
     },
     "metadata": {},
     "output_type": "display_data"
    },
    {
     "data": {
      "application/vnd.jupyter.widget-view+json": {
       "model_id": "",
       "version_major": 2,
       "version_minor": 0
      },
      "text/plain": [
       "HBox(children=(FloatProgress(value=0.0, max=10000.0), HTML(value='')))"
      ]
     },
     "metadata": {},
     "output_type": "display_data"
    },
    {
     "data": {
      "application/vnd.jupyter.widget-view+json": {
       "model_id": "",
       "version_major": 2,
       "version_minor": 0
      },
      "text/plain": [
       "HBox(children=(FloatProgress(value=0.0, max=10000.0), HTML(value='')))"
      ]
     },
     "metadata": {},
     "output_type": "display_data"
    },
    {
     "name": "stdout",
     "output_type": "stream",
     "text": [
      "\n"
     ]
    }
   ],
   "source": [
    "EPOCHS = 10\n",
    "teacher_forcing_prob = 0.5\n",
    "encoder.train()\n",
    "decoder.train()\n",
    "tk0 = tqdm_notebook(range(1,EPOCHS+1),total=EPOCHS)\n",
    "for epoch in tk0:\n",
    "    avg_loss = 0.\n",
    "    tk1 = tqdm_notebook(enumerate(en_inputs),total=len(en_inputs),leave=False)\n",
    "    for i, sentence in tk1:\n",
    "        loss = 0.\n",
    "        h = encoder.init_hidden()\n",
    "        encoder_optimizer.zero_grad()\n",
    "        decoder_optimizer.zero_grad()\n",
    "        inp = torch.tensor(sentence).unsqueeze(0).to(device)\n",
    "        encoder_outputs, h = encoder(inp,h)\n",
    "        \n",
    "        #First decoder input will be the SOS token\n",
    "        decoder_input = torch.tensor([en_w2i['_SOS']],device=device)\n",
    "        #First decoder hidden state will be last encoder hidden state\n",
    "        decoder_hidden = h\n",
    "        output = []\n",
    "        teacher_forcing = True if random.random() < teacher_forcing_prob else False\n",
    "        \n",
    "        for ii in range(len(fr_inputs[i])):\n",
    "            decoder_output, decoder_hidden, attn_weights = decoder(decoder_input, decoder_hidden, encoder_outputs)\n",
    "            # Get the index value of the word with the highest score from the decoder output\n",
    "            top_value, top_index = decoder_output.topk(1)\n",
    "            if teacher_forcing:\n",
    "                decoder_input = torch.tensor([fr_inputs[i][ii]],device=device)\n",
    "            else:\n",
    "                decoder_input = torch.tensor([top_index.item()],device=device)\n",
    "            output.append(top_index.item())\n",
    "            # Calculate the loss of the prediction against the actual word\n",
    "            loss += F.nll_loss(decoder_output.view(1,-1), torch.tensor([fr_inputs[i][ii]],device=device))\n",
    "        loss.backward()\n",
    "        encoder_optimizer.step()\n",
    "        decoder_optimizer.step()\n",
    "        avg_loss += loss.item()/len(en_inputs)\n",
    "    tk0.set_postfix(loss=avg_loss)\n",
    "  # Save model after every epoch (Optional)\n",
    "torch.save({\"encoder\":encoder.state_dict(),\"decoder\":decoder.state_dict(),\"e_optimizer\":encoder_optimizer.state_dict(),\"d_optimizer\":decoder_optimizer},\"./model.pt\")"
   ]
  },
  {
   "cell_type": "code",
   "execution_count": 13,
   "metadata": {},
   "outputs": [
    {
     "name": "stdout",
     "output_type": "stream",
     "text": [
      "English: i was busy . _EOS\n",
      "Predicted: j' ã © tais occupã © e .\n",
      "Actual: j' ã © tais occupã © e . _EOS\n"
     ]
    },
    {
     "data": {
      "image/png": "[encoded data removed]",
      "text/plain": [
       "<Figure size 864x648 with 2 Axes>"
      ]
     },
     "metadata": {
      "needs_background": "light"
     },
     "output_type": "display_data"
    }
   ],
   "source": [
    "encoder.eval()\n",
    "decoder.eval()\n",
    "# Choose a random sentences\n",
    "i = random.randint(0,len(en_inputs)-1)\n",
    "h = encoder.init_hidden()\n",
    "inp = torch.tensor(en_inputs[i]).unsqueeze(0).to(device)\n",
    "encoder_outputs, h = encoder(inp,h)\n",
    "\n",
    "decoder_input = torch.tensor([en_w2i['_SOS']],device=device)\n",
    "decoder_hidden = h\n",
    "output = []\n",
    "attentions = []\n",
    "while True:\n",
    "    decoder_output, decoder_hidden, attn_weights = decoder(decoder_input, decoder_hidden, encoder_outputs)\n",
    "    _, top_index = decoder_output.topk(1)\n",
    "    decoder_input = torch.tensor([top_index.item()],device=device)\n",
    "    # If the decoder output is the End Of Sentence token, stop decoding process\n",
    "    if top_index.item() == fr_w2i[\"_EOS\"]:\n",
    "        break\n",
    "    output.append(top_index.item())\n",
    "    attentions.append(attn_weights.squeeze().cpu().detach().numpy())\n",
    "print(\"English: \"+ \" \".join([en_i2w[x] for x in en_inputs[i]]))\n",
    "print(\"Predicted: \" + \" \".join([fr_i2w[x] for x in output]))\n",
    "print(\"Actual: \" + \" \".join([fr_i2w[x] for x in fr_inputs[i]]))\n",
    "\n",
    "# Plotting the heatmap for the Attention weights\n",
    "fig = plt.figure(figsize=(12,9))\n",
    "ax = fig.add_subplot(111)\n",
    "cax = ax.matshow(np.array(attentions))\n",
    "fig.colorbar(cax)\n",
    "ax.set_xticklabels(['']+[en_i2w[x] for x in en_inputs[i]])\n",
    "ax.set_yticklabels(['']+[fr_i2w[x] for x in output])\n",
    "ax.xaxis.set_major_locator(ticker.MultipleLocator(1))\n",
    "ax.yaxis.set_major_locator(ticker.MultipleLocator(1))\n",
    "plt.show()"
   ]
  },
  {
   "cell_type": "code",
   "execution_count": null,
   "metadata": {},
   "outputs": [],
   "source": []
  }
 ],
 "metadata": {
  "kernelspec": {
   "display_name": "Python 3",
   "language": "python",
   "name": "python3"
  },
  "language_info": {
   "codemirror_mode": {
    "name": "ipython",
    "version": 3
   },
   "file_extension": ".py",
   "mimetype": "text/x-python",
   "name": "python",
   "nbconvert_exporter": "python",
   "pygments_lexer": "ipython3",
   "version": "3.8.3"
  }
 },
 "nbformat": 4,
 "nbformat_minor": 4
}
